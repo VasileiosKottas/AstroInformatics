{
 "cells": [
  {
   "cell_type": "code",
   "execution_count": 8,
   "metadata": {},
   "outputs": [
    {
     "data": {
      "text/plain": [
       "'output\\\\self_guided_tsdiff_diagram.pdf'"
      ]
     },
     "execution_count": 8,
     "metadata": {},
     "output_type": "execute_result"
    }
   ],
   "source": [
    "from graphviz import Digraph\n",
    "\n",
    "def create_model_diagram():\n",
    "    dot = Digraph(comment='SelfGuidedTSDiff Architecture')\n",
    "\n",
    "    # General styling\n",
    "    dot.attr(rankdir='TB', splines='spline', bgcolor='white')\n",
    "    \n",
    "    # Nodes for SelfGuidedTSDiff and TSDiff\n",
    "    dot.node('SGTSDiff', 'SelfGuidedTSDiff', shape='box', style='rounded, filled', fillcolor='lightgrey')\n",
    "    dot.node('TSDiff', 'TSDiff', shape='box', style='rounded, filled', fillcolor='lightgrey')\n",
    "\n",
    "    # TSDiff Architecture components split into layers\n",
    "    dot.node('InitConv', 'Initial Conv1D Layer', shape='box', style='filled', fillcolor='lightblue', rank='same')\n",
    "    dot.node('ResBlocks', 'N Residual Blocks', shape='box', style='filled', fillcolor='lightcoral', rank='same')\n",
    "    dot.node('TransLayer', 'Transformer Layer', shape='box', style='filled', fillcolor='lightgreen', rank='same')\n",
    "    dot.node('OutConv', 'Output Conv1D Layer', shape='box', style='filled', fillcolor='lightblue', rank='same')\n",
    "\n",
    "    # Observation Self-Guidance components\n",
    "    dot.node('Xt', 'x^t', shape='ellipse', style='filled', fillcolor='lightyellow')\n",
    "    dot.node('Xt1', 'x^{t-1}', shape='ellipse', style='filled', fillcolor='lightyellow')\n",
    "    dot.node('Eps', 'e(x^t, t)', shape='ellipse', style='filled', fillcolor='lightyellow')\n",
    "    dot.node('Yobs', 'y_{obs}', shape='ellipse', style='filled', fillcolor='lightyellow')\n",
    "\n",
    "    # Grouping TSDiff layers\n",
    "    with dot.subgraph(name='cluster_TSDiff') as c:\n",
    "        c.attr(style='dashed', label='TSDiff Architecture', color='black')\n",
    "        c.node('InitConv')\n",
    "        c.node('ResBlocks')\n",
    "        c.node('TransLayer')\n",
    "        c.node('OutConv')\n",
    "        c.edge('InitConv', 'ResBlocks', label='', color='black')\n",
    "        c.edge('ResBlocks', 'TransLayer', label='', color='black')\n",
    "        c.edge('TransLayer', 'OutConv', label='', color='black')\n",
    "\n",
    "    # External connections showing integration with Observation Self-Guidance\n",
    "    dot.edge('Xt', 'InitConv', label='Input x^t', color='black')\n",
    "    dot.edge('OutConv', 'Eps', label='Output e(x^t, t)', color='black')\n",
    "    dot.edge('Eps', 'Xt1', label='', color='black')\n",
    "    dot.edge('Xt1', 'Yobs', label='', color='black')\n",
    "    dot.edge('Yobs', 'Eps', label='Feedback', color='black', style='dashed')\n",
    "\n",
    "    # Connect TSDiff to Self-GuidedTSDiff\n",
    "    dot.edge('SGTSDiff', 'TSDiff', label='Calls TSDiff', color='black')\n",
    "    dot.edge('TSDiff', 'OutConv', label='', color='black')\n",
    "    \n",
    "    # Self-guidance gradient flow\n",
    "    dot.node('GradCalc', 'Gradient Calculation', shape='ellipse', style='filled', fillcolor='lightyellow')\n",
    "    dot.edge('Yobs', 'GradCalc', label='Gradient Input', color='black', style='dashed')\n",
    "    dot.edge('GradCalc', 'InitConv', label='Gradient Adjustment', color='black', style='dashed')\n",
    "\n",
    "    return dot\n",
    "\n",
    "# Render the diagram\n",
    "diagram = create_model_diagram()\n",
    "diagram.render('output/self_guided_tsdiff_diagram', format='png', cleanup=True)\n",
    "diagram.view()\n"
   ]
  },
  {
   "cell_type": "code",
   "execution_count": 32,
   "metadata": {},
   "outputs": [
    {
     "name": "stdout",
     "output_type": "stream",
     "text": [
      "Graph code generated. Rendered file paths: ./timegan_block_diagram.png, ./timegan_training_scheme.png\n"
     ]
    }
   ],
   "source": [
    "from graphviz import Digraph\n",
    "\n",
    "# Create the Block Diagram graph\n",
    "block_diagram = Digraph(comment='TimeGAN Block Diagram', format='png')\n",
    "block_diagram.attr(rankdir='LR', splines='polyline', concentrate='true')\n",
    "block_diagram.attr(label='Block Diagram', style='dashed', labelloc='t', center='true')\n",
    "block_diagram.node('Real Sequences', 'Real Sequences\\nε S × T X', shape='ellipse', style='filled', color='gray')\n",
    "block_diagram.node('Random Vectors', 'Random Vectors\\nε ZS × T Z', shape='ellipse', style='filled', color='gray')\n",
    "block_diagram.node('Latent Codes', 'Latent Codes\\nε HS × T H', shape='ellipse', style='filled', color='gray')\n",
    "block_diagram.node('Reconstruction', 'Reconstruction\\nε S × T X', shape='ellipse', style='filled', color='gray')\n",
    "block_diagram.node('Classifications', 'Classifications\\nε [0, 1]', shape='ellipse', style='filled', color='gray')\n",
    "\n",
    "# Add edges for the block diagram\n",
    "block_diagram.edge('Real Sequences', 'Latent Codes', label='Embeder')\n",
    "block_diagram.edge('Random Vectors', 'Latent Codes', label='Generate')\n",
    "block_diagram.edge('Latent Codes', 'Reconstruction', label='Recover')\n",
    "block_diagram.edge('Latent Codes', 'Classifications', label='Discriminate')\n",
    "\n",
    "# Add loss labels\n",
    "block_diagram.node('Unsupervised Loss', 'Unsupervised Loss\\nLearn distribution\\np(S, X) directly', shape='note', color='orange')\n",
    "block_diagram.node('Supervised Loss', 'Supervised Loss\\nLearn conditionals\\np(X|S)', shape='note', color='orange')\n",
    "block_diagram.node('Reconstruction Loss', 'Reconstruction Loss\\nProvide Latent\\nEmbedding Space', shape='note', color='orange')\n",
    "\n",
    "# Connect losses\n",
    "block_diagram.edge('Classifications', 'Unsupervised Loss')\n",
    "block_diagram.edge('Latent Codes', 'Supervised Loss')\n",
    "block_diagram.edge('Reconstruction', 'Reconstruction Loss')\n",
    "\n",
    "# Render the Block Diagram\n",
    "block_diagram_output_path = './timegan_block_diagram'\n",
    "block_diagram.render(block_diagram_output_path, cleanup=True)\n",
    "\n",
    "# Create the Training Scheme graph\n",
    "training_scheme = Digraph(comment='TimeGAN Training Scheme', format='png')\n",
    "training_scheme.attr(rankdir='LR', splines='polyline', concentrate='true')\n",
    "training_scheme.attr(label='Training Scheme', style='dashed', labelloc='t', center='true')\n",
    "training_scheme.node('Input', 'Input\\ns, x', shape='ellipse')\n",
    "training_scheme.node('Latent', 'Latent\\nhS, h', shape='ellipse')\n",
    "training_scheme.node('Noise', 'Noise\\nzS, z', shape='ellipse')\n",
    "training_scheme.node('Reconstructed', 'Reconstructed\\ns, x', shape='ellipse')\n",
    "training_scheme.node('Output', 'Output\\nyS, y', shape='ellipse')\n",
    "\n",
    "# Training edges\n",
    "training_scheme.node('Embedder', 'Embedder\\ne', shape='box', style='filled', color='pink')\n",
    "training_scheme.node('Recoverer', 'Recoverer\\nr', shape='box', style='filled', color='pink')\n",
    "training_scheme.node('Generator', 'Generator\\ng', shape='box', style='filled', color='lightblue')\n",
    "training_scheme.node('Discriminator', 'Discriminator\\nd', shape='box', style='filled', color='lightblue')\n",
    "\n",
    "# Connect nodes for training scheme\n",
    "training_scheme.edge('Input', 'Embedder', label='∂LR/∂θe')\n",
    "training_scheme.edge('Embedder', 'Latent')\n",
    "training_scheme.edge('Latent', 'Generator', label='∂LS/∂θg')\n",
    "training_scheme.edge('Noise', 'Generator')\n",
    "training_scheme.edge('Generator', 'Output')\n",
    "training_scheme.edge('Output', 'Discriminator', label='∂LU/∂θd')\n",
    "training_scheme.edge('Discriminator', 'Latent', label='∂LU/∂θg', dir='back')\n",
    "\n",
    "training_scheme.edge('Latent', 'Recoverer', label='∂LR/∂θr')\n",
    "training_scheme.edge('Recoverer', 'Reconstructed')\n",
    "\n",
    "# Render the Training Scheme\n",
    "training_scheme_output_path = './timegan_training_scheme'\n",
    "training_scheme.render(training_scheme_output_path, cleanup=True)\n",
    "\n",
    "print(f\"Graph code generated. Rendered file paths: {block_diagram_output_path}.png, {training_scheme_output_path}.png\")\n"
   ]
  },
  {
   "cell_type": "code",
   "execution_count": 5,
   "metadata": {},
   "outputs": [
    {
     "data": {
      "text/plain": [
       "'GAN_Styled_Model_Architecture.gv.png'"
      ]
     },
     "execution_count": 5,
     "metadata": {},
     "output_type": "execute_result"
    }
   ],
   "source": [
    "from graphviz import Digraph\n",
    "\n",
    "# Refining the detailed architecture graph to match the exact style of the provided diffusion model diagram\n",
    "\n",
    "# Initialize Digraph for GAN architecture\n",
    "gan_arch_tsdiff_style = Digraph(name=\"GAN_Styled_Model_Architecture\", format=\"png\")\n",
    "gan_arch_tsdiff_style.attr(rankdir=\"TB\")\n",
    "\n",
    "# Main nodes for GAN architecture\n",
    "gan_arch_tsdiff_style.node(\"Photometry_Input\", \"Photometry Input\", shape=\"ellipse\", style=\"filled\", fillcolor=\"lightyellow\")\n",
    "gan_arch_tsdiff_style.node(\"Embedding\", \"Embedding Network\", shape=\"box\", style=\"filled\", fillcolor=\"lightblue\")\n",
    "gan_arch_tsdiff_style.node(\"Generator\", \"Generator\", shape=\"box\", style=\"filled\", fillcolor=\"lightcoral\")\n",
    "gan_arch_tsdiff_style.node(\"Generated_Spectra\", \"Generated Spectra (Output)\", shape=\"ellipse\", style=\"filled\", fillcolor=\"lightyellow\")\n",
    "gan_arch_tsdiff_style.node(\"Discriminator\", \"Discriminator\", shape=\"box\", style=\"filled\", fillcolor=\"lightgrey\")\n",
    "gan_arch_tsdiff_style.node(\"Real_Spectra\", \"Real Spectra\", shape=\"ellipse\", style=\"filled\", fillcolor=\"lightyellow\")\n",
    "gan_arch_tsdiff_style.node(\"Loss_Calculation\", \"Loss Calculation\", shape=\"ellipse\", style=\"filled\", fillcolor=\"lightyellow\")\n",
    "\n",
    "# Additional nodes and connections to mimic the detailed style with feedback and loss calculation\n",
    "gan_arch_tsdiff_style.node(\"Gradient_Input\", \"Gradient Input\", shape=\"ellipse\", style=\"filled\", fillcolor=\"lightyellow\")\n",
    "gan_arch_tsdiff_style.node(\"Gradient_Adjust\", \"Gradient Adjustment\", shape=\"ellipse\", style=\"filled\", fillcolor=\"lightyellow\")\n",
    "\n",
    "# Connections within GAN architecture\n",
    "gan_arch_tsdiff_style.edge(\"Photometry_Input\", \"Embedding\")\n",
    "gan_arch_tsdiff_style.edge(\"Embedding\", \"Generator\")\n",
    "gan_arch_tsdiff_style.edge(\"Generator\", \"Generated_Spectra\")\n",
    "gan_arch_tsdiff_style.edge(\"Generated_Spectra\", \"Discriminator\")\n",
    "gan_arch_tsdiff_style.edge(\"Real_Spectra\", \"Discriminator\", label=\"Real vs. Generated\")\n",
    "gan_arch_tsdiff_style.edge(\"Discriminator\", \"Loss_Calculation\", label=\"Adversarial Loss\")\n",
    "gan_arch_tsdiff_style.edge(\"Loss_Calculation\", \"Gradient_Input\", label=\"Gradient Input\", style=\"dashed\")\n",
    "gan_arch_tsdiff_style.edge(\"Gradient_Input\", \"Gradient_Adjust\", style=\"dashed\")\n",
    "gan_arch_tsdiff_style.edge(\"Gradient_Adjust\", \"Generator\", label=\"Gradient Adjustment\", style=\"dashed\")\n",
    "\n",
    "# Display the GAN styled architecture graph\n",
    "gan_arch_tsdiff_style.view()"
   ]
  },
  {
   "cell_type": "code",
   "execution_count": null,
   "metadata": {},
   "outputs": [],
   "source": []
  }
 ],
 "metadata": {
  "kernelspec": {
   "display_name": "pytorch_env",
   "language": "python",
   "name": "python3"
  },
  "language_info": {
   "codemirror_mode": {
    "name": "ipython",
    "version": 3
   },
   "file_extension": ".py",
   "mimetype": "text/x-python",
   "name": "python",
   "nbconvert_exporter": "python",
   "pygments_lexer": "ipython3",
   "version": "3.12.4"
  }
 },
 "nbformat": 4,
 "nbformat_minor": 2
}
