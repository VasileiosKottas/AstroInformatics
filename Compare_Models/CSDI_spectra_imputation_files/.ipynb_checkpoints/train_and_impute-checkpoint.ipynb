{
 "cells": [
  {
   "cell_type": "code",
   "execution_count": 1,
   "id": "e526a4de",
   "metadata": {},
   "outputs": [],
   "source": [
    "import pandas as pd\n",
    "import numpy as np\n",
    "import torch\n",
    "import matplotlib.pyplot as plt\n",
    "from spectra_dataset import get_dataloader, df_concat, spectra_Dataset\n",
    "from tools import train_model, eval_model, eval_test_plotter, error_chi_squared"
   ]
  },
  {
   "cell_type": "code",
   "execution_count": 2,
   "id": "76c89e55",
   "metadata": {},
   "outputs": [
    {
     "data": {
      "text/plain": [
       "((10000, 128), (128,), (10000, 128))"
      ]
     },
     "execution_count": 2,
     "metadata": {},
     "output_type": "execute_result"
    }
   ],
   "source": [
    "# loading data\n",
    "wavelength_range = \"ir\"\n",
    "\n",
    "df_cond = pd.read_csv(\"./data/interpolated_spectra.csv\") # 10000 x 20\n",
    "df_interpol = pd.read_csv(\"./data/complete_spectra.csv\") # 10000 x 223 \n",
    "\n",
    "# focus only on the ir range (128 points) or the entire spectrum (243 points)\n",
    "if wavelength_range == \"ir\":\n",
    "    df_interpol_ir = df_interpol.iloc[:,66:66+108] # 10000 x 108 (66:66+108 yields points in 5-35 mu meter range)\n",
    "    df_tot, cond_mask = df_concat(df_cond = df_cond, df_imp = df_interpol_ir) # 10000 x 128, 10000 x 128\n",
    "    fluxes_np = np.log10(df_tot.values)\n",
    "elif wavelength_range == \"all\":\n",
    "    df_tot, cond_mask = df_concat(df_cond = df_cond, df_imp = df_interpol) # 10000 x 243, 10000 x 243\n",
    "    fluxes_np = np.log10(df_tot.values)\n",
    "\n",
    "sorted_wavelengths = df_tot.columns.values.astype(float)\n",
    "\n",
    "fluxes_np.shape, sorted_wavelengths.shape, cond_mask.shape"
   ]
  },
  {
   "cell_type": "code",
   "execution_count": 3,
   "id": "136a7873",
   "metadata": {},
   "outputs": [
    {
     "name": "stderr",
     "output_type": "stream",
     "text": [
      "100%|████████████████████████████████████████████████| 507/507 [00:20<00:00, 24.22it/s, avg_epoch_loss=0.0965, epoch=0]\n",
      "100%|████████████████████████████████████████████████| 507/507 [00:20<00:00, 25.11it/s, avg_epoch_loss=0.0386, epoch=1]\n",
      "100%|█████████████████████████████████████████████████| 507/507 [00:19<00:00, 26.27it/s, avg_epoch_loss=0.033, epoch=2]\n",
      "100%|████████████████████████████████████████████████| 507/507 [00:19<00:00, 26.63it/s, avg_epoch_loss=0.0278, epoch=3]\n",
      "100%|████████████████████████████████████████████████| 507/507 [00:19<00:00, 26.60it/s, avg_epoch_loss=0.0279, epoch=4]\n",
      "100%|████████████████████████████████████████████| 57/57 [00:00<00:00, 73.82it/s, valid_avg_epoch_loss=0.0217, epoch=4]"
     ]
    },
    {
     "name": "stdout",
     "output_type": "stream",
     "text": [
      "\n",
      " best loss is updated to  0.021688554223561494 at 4\n"
     ]
    },
    {
     "name": "stderr",
     "output_type": "stream",
     "text": [
      "\n"
     ]
    }
   ],
   "source": [
    "## Training\n",
    "model, valid_loader = train_model(fluxes_np, cond_mask)"
   ]
  },
  {
   "cell_type": "code",
   "execution_count": 4,
   "id": "bf94a8c7",
   "metadata": {},
   "outputs": [],
   "source": [
    "## Imputation \n",
    "# Samples has shape N x K x L; N=900 validation spectra, K = 1 feature, L = 128 or 243 time series length\n",
    "# Compare samples to observed data; n.t. imputation does not happen at conditional points\n",
    "\n",
    "eval_output = eval_model(model, valid_loader, num_samp = 4)"
   ]
  },
  {
   "cell_type": "code",
   "execution_count": 5,
   "id": "87a61c29",
   "metadata": {},
   "outputs": [
    {
     "data": {
      "image/png": "[encoded data removed]",
      "text/plain": [
       "<Figure size 720x432 with 1 Axes>"
      ]
     },
     "metadata": {
      "needs_background": "light"
     },
     "output_type": "display_data"
    }
   ],
   "source": [
    "## Plotting\n",
    "# Change index to view a different spectrum\n",
    "# Vary i,j to constrain the length of the time series\n",
    "\n",
    "index = 1\n",
    "\n",
    "valid_dataset = spectra_Dataset(fluxes_np, cond_mask, eval_length=cond_mask.shape[-1], target_dim=1, mode=\"valid\")\n",
    "eval_test_plotter(eval_output, cond_mask, sorted_wavelengths, valid_dataset, index=index, i=14, j=4)"
   ]
  },
  {
   "cell_type": "code",
   "execution_count": 7,
   "id": "d2aa61a4",
   "metadata": {},
   "outputs": [
    {
     "data": {
      "text/plain": [
       "36.77777777777778"
      ]
     },
     "execution_count": 7,
     "metadata": {},
     "output_type": "execute_result"
    }
   ],
   "source": [
    "# calculating chi_squared; same metric as in the paper (chi_over_5 = % of chi_squares under 5)\n",
    "\n",
    "chi_squared, chi_under_5 = error_chi_squared(eval_output, cond_mask, valid_dataset, i = 35, j = 4)\n",
    "chi_under_5"
   ]
  }
 ],
 "metadata": {
  "kernelspec": {
   "display_name": "Python 3",
   "language": "python",
   "name": "python3"
  },
  "language_info": {
   "codemirror_mode": {
    "name": "ipython",
    "version": 3
   },
   "file_extension": ".py",
   "mimetype": "text/x-python",
   "name": "python",
   "nbconvert_exporter": "python",
   "pygments_lexer": "ipython3",
   "version": "3.8.8"
  }
 },
 "nbformat": 4,
 "nbformat_minor": 5
}
