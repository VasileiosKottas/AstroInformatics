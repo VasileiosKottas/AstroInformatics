{
 "cells": [
  {
   "cell_type": "markdown",
   "metadata": {},
   "source": [
    "# Load CSDI"
   ]
  },
  {
   "cell_type": "code",
   "execution_count": 109,
   "metadata": {},
   "outputs": [
    {
     "name": "stderr",
     "output_type": "stream",
     "text": [
      "C:\\Users\\vasil\\AppData\\Local\\Temp\\ipykernel_19672\\33672436.py:27: FutureWarning: You are using `torch.load` with `weights_only=False` (the current default value), which uses the default pickle module implicitly. It is possible to construct malicious pickle data which will execute arbitrary code during unpickling (See https://github.com/pytorch/pytorch/blob/main/SECURITY.md#untrusted-models for more details). In a future release, the default value for `weights_only` will be flipped to `True`. This limits the functions that could be executed during unpickling. Arbitrary objects will no longer be allowed to be loaded via this mode unless they are explicitly allowlisted by the user via `torch.serialization.add_safe_globals`. We recommend you start setting `weights_only=True` for any use case where you don't have full control of the loaded file. Please open an issue on GitHub for any issues related to this experimental feature.\n",
      "  model.load_state_dict(torch.load(model_path))\n"
     ]
    },
    {
     "data": {
      "text/plain": [
       "CSDI_spectra(\n",
       "  (embed_layer): Embedding(1, 1)\n",
       "  (diffmodel): diff_CSDI(\n",
       "    (diffusion_embedding): DiffusionEmbedding(\n",
       "      (projection1): Linear(in_features=128, out_features=128, bias=True)\n",
       "      (projection2): Linear(in_features=128, out_features=128, bias=True)\n",
       "      (dropout): Dropout(p=0.3, inplace=False)\n",
       "    )\n",
       "    (dropout): Dropout(p=0.2, inplace=False)\n",
       "    (input_projection): Conv1d(2, 128, kernel_size=(1,), stride=(1,))\n",
       "    (output_projection1): Conv1d(128, 128, kernel_size=(1,), stride=(1,))\n",
       "    (output_projection2): Conv1d(128, 1, kernel_size=(1,), stride=(1,))\n",
       "    (linear_layer1): Linear(in_features=128, out_features=128, bias=True)\n",
       "    (linear_layer2): Linear(in_features=128, out_features=128, bias=True)\n",
       "    (linear_layer3): Linear(in_features=128, out_features=128, bias=True)\n",
       "    (residual_layers): ModuleList(\n",
       "      (0-5): 6 x ResidualBlock(\n",
       "        (diffusion_projection): Linear(in_features=128, out_features=128, bias=True)\n",
       "        (cond_projection): Conv1d(66, 256, kernel_size=(1,), stride=(1,))\n",
       "        (mid_projection): Conv1d(128, 256, kernel_size=(1,), stride=(1,))\n",
       "        (output_projection): Conv1d(128, 256, kernel_size=(1,), stride=(1,))\n",
       "        (time_layer): LinearAttentionTransformer(\n",
       "          (layers): SequentialSequence(\n",
       "            (layers): ModuleList(\n",
       "              (0): ModuleList(\n",
       "                (0): PreNorm(\n",
       "                  (fn): SelfAttention(\n",
       "                    (local_attn): LocalAttention(\n",
       "                      (dropout): Dropout(p=0.0, inplace=False)\n",
       "                    )\n",
       "                    (to_q): Linear(in_features=128, out_features=128, bias=False)\n",
       "                    (to_k): Linear(in_features=128, out_features=128, bias=False)\n",
       "                    (to_v): Linear(in_features=128, out_features=128, bias=False)\n",
       "                    (to_out): Linear(in_features=128, out_features=128, bias=True)\n",
       "                    (dropout): Dropout(p=0.0, inplace=False)\n",
       "                  )\n",
       "                  (norm): LayerNorm((128,), eps=1e-05, elementwise_affine=True)\n",
       "                )\n",
       "                (1): PreNorm(\n",
       "                  (fn): Chunk(\n",
       "                    (fn): FeedForward(\n",
       "                      (w1): Linear(in_features=128, out_features=512, bias=True)\n",
       "                      (act): GELU(approximate='none')\n",
       "                      (dropout): Dropout(p=0.0, inplace=False)\n",
       "                      (w2): Linear(in_features=512, out_features=128, bias=True)\n",
       "                    )\n",
       "                  )\n",
       "                  (norm): LayerNorm((128,), eps=1e-05, elementwise_affine=True)\n",
       "                )\n",
       "              )\n",
       "            )\n",
       "          )\n",
       "        )\n",
       "        (feature_layer): LinearAttentionTransformer(\n",
       "          (layers): SequentialSequence(\n",
       "            (layers): ModuleList(\n",
       "              (0): ModuleList(\n",
       "                (0): PreNorm(\n",
       "                  (fn): SelfAttention(\n",
       "                    (local_attn): LocalAttention(\n",
       "                      (dropout): Dropout(p=0.0, inplace=False)\n",
       "                    )\n",
       "                    (to_q): Linear(in_features=128, out_features=128, bias=False)\n",
       "                    (to_k): Linear(in_features=128, out_features=128, bias=False)\n",
       "                    (to_v): Linear(in_features=128, out_features=128, bias=False)\n",
       "                    (to_out): Linear(in_features=128, out_features=128, bias=True)\n",
       "                    (dropout): Dropout(p=0.0, inplace=False)\n",
       "                  )\n",
       "                  (norm): LayerNorm((128,), eps=1e-05, elementwise_affine=True)\n",
       "                )\n",
       "                (1): PreNorm(\n",
       "                  (fn): Chunk(\n",
       "                    (fn): FeedForward(\n",
       "                      (w1): Linear(in_features=128, out_features=512, bias=True)\n",
       "                      (act): GELU(approximate='none')\n",
       "                      (dropout): Dropout(p=0.0, inplace=False)\n",
       "                      (w2): Linear(in_features=512, out_features=128, bias=True)\n",
       "                    )\n",
       "                  )\n",
       "                  (norm): LayerNorm((128,), eps=1e-05, elementwise_affine=True)\n",
       "                )\n",
       "              )\n",
       "            )\n",
       "          )\n",
       "        )\n",
       "      )\n",
       "    )\n",
       "  )\n",
       ")"
      ]
     },
     "execution_count": 109,
     "metadata": {},
     "output_type": "execute_result"
    }
   ],
   "source": [
    "import pandas as pd\n",
    "import numpy as np\n",
    "import torch\n",
    "import matplotlib.pyplot as plt\n",
    "import sys\n",
    "sys.path.append(r\"C:\\Users\\vasil\\Desktop\\AstroInformatics\\Compare_Models\\CSDI_spectra_imputation_files\")\n",
    "\n",
    "import torch\n",
    "from CSDI_spectra_imputation_files.main_model_spectra import CSDI_spectra\n",
    "import yaml\n",
    "\n",
    "def load_config(file_path):\n",
    "    with open(file_path, 'r') as file:\n",
    "        config = yaml.safe_load(file)\n",
    "    return config\n",
    "\n",
    "config = load_config(\"CSDI_spectra_imputation_files/base_spectra.yaml\")\n",
    "# Path to saved model\n",
    "model_path = \"CSDI_spectra_imputation_files/output_samples/model.pth\"\n",
    "\n",
    "# Load configuration and device\n",
    "# config = torch.load(\"CSDI_spectra_imputation_files/base_spectra.yaml\")  # If you saved the config\n",
    "device = torch.device(\"cuda\" if torch.cuda.is_available() else \"cpu\")\n",
    "\n",
    "# Load model\n",
    "model = CSDI_spectra(config, device)\n",
    "model.load_state_dict(torch.load(model_path))\n",
    "model.to(device)\n",
    "model.eval()\n"
   ]
  },
  {
   "cell_type": "code",
   "execution_count": 110,
   "metadata": {},
   "outputs": [
    {
     "name": "stderr",
     "output_type": "stream",
     "text": [
      "C:\\Users\\vasil\\AppData\\Local\\Temp\\ipykernel_19672\\1504280709.py:16: RuntimeWarning: invalid value encountered in log10\n",
      "  fluxes_np = np.log10(df_tot.values)\n"
     ]
    },
    {
     "data": {
      "text/plain": [
       "((10000, 125), (125,), (10000, 125))"
      ]
     },
     "execution_count": 110,
     "metadata": {},
     "output_type": "execute_result"
    }
   ],
   "source": [
    "import pandas as pd\n",
    "import numpy as np\n",
    "import torch\n",
    "import matplotlib.pyplot as plt\n",
    "from spectra_dataset import get_dataloader, df_concat, spectra_Dataset\n",
    "# loading data\n",
    "wavelength_range = \"ir\"\n",
    "\n",
    "df_cond = pd.read_csv(\"../data/interpolated_spectra.csv\") # 10000 x 20\n",
    "df_interpol = pd.read_csv(\"../data/spectra.csv\") # 10000 x 223 \n",
    "\n",
    "# focus only on the ir range (128 points) or the entire spectrum (243 points)\n",
    "if wavelength_range == \"ir\":\n",
    "    df_interpol_ir = df_interpol.iloc[:,66:66+108] # 10000 x 108 (66:66+108 yields points in 5-35 mu meter range)\n",
    "    df_tot, cond_mask = df_concat(df_cond = df_cond, df_imp = df_interpol_ir) # 10000 x 128, 10000 x 128\n",
    "    fluxes_np = np.log10(df_tot.values)\n",
    "elif wavelength_range == \"all\":\n",
    "    df_tot, cond_mask = df_concat(df_cond = df_cond, df_imp = df_interpol) # 10000 x 243, 10000 x 243\n",
    "    fluxes_np = df_tot.values\n",
    "\n",
    "sorted_wavelengths = df_tot.columns.values.astype(float)\n",
    "\n",
    "fluxes_np.shape, sorted_wavelengths.shape, cond_mask.shape"
   ]
  },
  {
   "cell_type": "code",
   "execution_count": 111,
   "metadata": {},
   "outputs": [
    {
     "data": {
      "text/plain": [
       "array([-0.06988702, -0.03639983, -0.00977699,  0.00337571,  0.03536585,\n",
       "        0.05619702,  0.05928056,  0.05942273,  0.06406987,  0.07197055,\n",
       "        0.08038287,  0.08254556,  0.08962517,  0.09910605,  0.10459963,\n",
       "        0.10859803,  0.11928361,  0.13245914,  0.13781352,  0.14554703,\n",
       "        0.15963342,  0.17246394,  0.17378498,  0.19088833,  0.21502214,\n",
       "        0.2222518 ,  0.23696404,  0.26087059,  0.28561797,  0.30157881,\n",
       "        0.30421226,  0.32618609,  0.34069383,  0.34733359,  0.35057183,\n",
       "        0.35468002,  0.35637417,  0.35885228,  0.3613673 ,  0.36652904,\n",
       "        0.37465774,  0.39154202,  0.40606238,  0.41460148,  0.41981302,\n",
       "        0.42306606,  0.42570645,  0.42743336,  0.43200727,  0.43536053,\n",
       "        0.43959408,  0.44589581,  0.44987849,  0.44967005,  0.44889287,\n",
       "        0.45050094,  0.45343195,  0.45549088,  0.45860187,  0.45857251,\n",
       "        0.45968373,  0.46135843,  0.46524085,  0.46648145,  0.46684714,\n",
       "        0.46552784,  0.46318209,  0.46281998,  0.46128939,  0.46272559,\n",
       "        0.46408347,  0.46529591,  0.46629667,  0.46863805,  0.4697269 ,\n",
       "        0.47096007,  0.4722871 ,  0.47412421,  0.47696167,  0.47892631,\n",
       "        0.48094417,  0.48412204,  0.48526859,  0.48619445,  0.48666139,\n",
       "        0.48712137,  0.48761943,  0.48824387,  0.48892957,  0.48967023,\n",
       "        0.49056121,  0.49113556,  0.49180991,  0.4932256 ,  0.49417158,\n",
       "        0.49498207,  0.49634861,  0.49751538,  0.49793769,  0.49879527,\n",
       "        0.49945777,  0.50017711,  0.50095081,  0.50176411,  0.50254739,\n",
       "        0.50317693,  0.50373862,  0.50427338,  0.50533416,  0.50593481,\n",
       "        0.50652167,  0.50699618,  0.50784005,  0.50875792,  0.50960331,\n",
       "        0.5099693 ,  0.51049123,  0.51102338,  0.51180288,  0.5122032 ,\n",
       "        0.53848353,  0.56261592,  0.61271142,  0.61401242,  0.59584176])"
      ]
     },
     "execution_count": 111,
     "metadata": {},
     "output_type": "execute_result"
    }
   ],
   "source": [
    "fluxes_np[0,:]"
   ]
  },
  {
   "cell_type": "code",
   "execution_count": 112,
   "metadata": {},
   "outputs": [],
   "source": [
    "import numpy as np\n",
    "import torch\n",
    "from CSDI_spectra_imputation_files.spectra_dataset import spectra_Dataset\n",
    "\n",
    "\n",
    "# Reshape to [N, K, L]\n",
    "# observed_data = fluxes_np[:, np.newaxis, :]  # Add feature dimension K=1\n",
    "# cond_mask = cond_mask[:, np.newaxis, :]\n",
    "\n",
    "# Create a Dataset object\n",
    "test_dataset = spectra_Dataset(fluxes_np, cond_mask, eval_length=cond_mask.shape[-1], target_dim=1, mode=\"test\")\n",
    "test_loader = torch.utils.data.DataLoader(test_dataset, batch_size=32, shuffle=False)\n"
   ]
  },
  {
   "cell_type": "code",
   "execution_count": 113,
   "metadata": {},
   "outputs": [
    {
     "data": {
      "text/plain": [
       "[<matplotlib.lines.Line2D at 0x1a493067fe0>]"
      ]
     },
     "execution_count": 113,
     "metadata": {},
     "output_type": "execute_result"
    },
    {
     "data": {
      "image/png": "[encoded data removed]",
      "text/plain": [
       "<Figure size 640x480 with 1 Axes>"
      ]
     },
     "metadata": {},
     "output_type": "display_data"
    }
   ],
   "source": [
    "test = next(iter(test_loader))\n",
    "plt.plot(sorted_wavelengths, test['observed_data'][1,0,:])"
   ]
  },
  {
   "cell_type": "code",
   "execution_count": 119,
   "metadata": {},
   "outputs": [
    {
     "data": {
      "text/plain": [
       "array([[[        nan,         nan,         nan, ...,         nan,\n",
       "                 nan,         nan]],\n",
       "\n",
       "       [[-6.0693736 , -3.7598617 , -2.6437593 , ...,  2.4690895 ,\n",
       "          3.0886738 ,  3.263114  ]],\n",
       "\n",
       "       [[-3.3906922 , -3.240209  , -2.8135717 , ...,  2.935035  ,\n",
       "          3.349484  ,  3.4667578 ]],\n",
       "\n",
       "       ...,\n",
       "\n",
       "       [[        nan,         nan,         nan, ...,         nan,\n",
       "                 nan,         nan]],\n",
       "\n",
       "       [[-3.9079242 , -3.223943  , -2.8097525 , ...,  0.5322064 ,\n",
       "          0.25052992, -0.15028262]],\n",
       "\n",
       "       [[-2.9408376 , -2.7260318 , -2.5549262 , ...,  0.38161615,\n",
       "          0.00729015, -0.48359913]]], dtype=float32)"
      ]
     },
     "execution_count": 119,
     "metadata": {},
     "output_type": "execute_result"
    }
   ],
   "source": [
    "from CSDI_spectra_imputation_files.tools import eval_model\n",
    "\n",
    "# Perform evaluation\n",
    "num_samples = 10  # Number of imputations per sample to average\n",
    "all_samples = eval_model(model, test_loader, num_samp=num_samples)\n",
    "\n",
    "# Print or save outputs\n",
    "# print(\"Imputed Samples Shape:\", all_samples.shape)  # [N, L]\n",
    "# print(\"Observed Data Shape:\", all_observed_data.shape)  # [N, L]\n",
    "all_samples[1]"
   ]
  },
  {
   "cell_type": "code",
   "execution_count": null,
   "metadata": {},
   "outputs": [],
   "source": []
  },
  {
   "cell_type": "code",
   "execution_count": 132,
   "metadata": {},
   "outputs": [
    {
     "name": "stdout",
     "output_type": "stream",
     "text": [
      "125\n",
      "<class 'numpy.ndarray'>\n"
     ]
    }
   ],
   "source": [
    "import matplotlib.pyplot as plt\n",
    "from numpy import NaN\n",
    "valid_spectra = sorted_wavelengths < 1\n",
    "print(len(valid_spectra))\n",
    "# if all_observed_data.shape[1] == 1:\n",
    "    # all_observed_data = all_observed_data.squeeze(1)\n",
    "# all_observed_data_filter = all_observed_data[valid_spectra]\n",
    "# all_samples = all_samples.squeeze(1)\n",
    "# Example: Plot observed vs imputed data for the first sample\n",
    "# plt.plot(np.log10(sorted_wavelengths),all_observed_data[0], label=\"Observed Data\", color=\"red\")\n",
    "sam = all_samples[0][0,0,:]\n",
    "\n",
    "g = []\n",
    "for val in sam:\n",
    "    if val is NaN:\n",
    "        print(val)\n",
    "        g.append(val)\n",
    "\n",
    "# plt.plot(sorted_wavelengths,val, label=\"Imputed Data\", color=\"blue\")\n",
    "# plt.legend()\n",
    "# plt.show()\n",
    "\n",
    "# Save results\n",
    "np.save(\"imputed_samples.npy\", all_samples)\n"
   ]
  },
  {
   "cell_type": "code",
   "execution_count": 118,
   "metadata": {},
   "outputs": [
    {
     "data": {
      "text/plain": [
       "array([nan, nan, nan, nan, nan, nan, nan, nan, nan, nan, nan, nan, nan,\n",
       "       nan, nan, nan, nan, nan, nan, nan, nan, nan, nan, nan, nan, nan,\n",
       "       nan, nan, nan, nan, nan, nan, nan, nan, nan, nan, nan, nan, nan,\n",
       "       nan, nan, nan, nan, nan, nan, nan, nan, nan, nan, nan, nan, nan,\n",
       "       nan, nan, nan, nan, nan, nan, nan, nan, nan, nan, nan, nan, nan,\n",
       "       nan, nan, nan, nan, nan, nan, nan, nan, nan, nan, nan, nan, nan,\n",
       "       nan, nan, nan, nan, nan, nan, nan, nan, nan, nan, nan, nan, nan,\n",
       "       nan, nan, nan, nan, nan, nan, nan, nan, nan, nan, nan, nan, nan,\n",
       "       nan, nan, nan, nan, nan, nan, nan, nan, nan, nan, nan, nan, nan,\n",
       "       nan, nan, nan, nan, nan, nan, nan, nan], dtype=float32)"
      ]
     },
     "execution_count": 118,
     "metadata": {},
     "output_type": "execute_result"
    }
   ],
   "source": [
    "all_samples[0][0,0,:]"
   ]
  },
  {
   "cell_type": "code",
   "execution_count": null,
   "metadata": {},
   "outputs": [],
   "source": []
  }
 ],
 "metadata": {
  "kernelspec": {
   "display_name": "pytorch_env",
   "language": "python",
   "name": "python3"
  },
  "language_info": {
   "codemirror_mode": {
    "name": "ipython",
    "version": 3
   },
   "file_extension": ".py",
   "mimetype": "text/x-python",
   "name": "python",
   "nbconvert_exporter": "python",
   "pygments_lexer": "ipython3",
   "version": "3.12.5"
  }
 },
 "nbformat": 4,
 "nbformat_minor": 2
}
