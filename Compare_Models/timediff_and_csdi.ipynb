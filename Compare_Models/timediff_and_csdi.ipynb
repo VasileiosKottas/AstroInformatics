{
 "cells": [
  {
   "cell_type": "markdown",
   "metadata": {},
   "source": [
    "# Load CSDI"
   ]
  },
  {
   "cell_type": "code",
   "execution_count": 109,
   "metadata": {},
   "outputs": [
    {
     "name": "stderr",
     "output_type": "stream",
     "text": [
      "C:\\Users\\vasil\\AppData\\Local\\Temp\\ipykernel_19672\\33672436.py:27: FutureWarning: You are using `torch.load` with `weights_only=False` (the current default value), which uses the default pickle module implicitly. It is possible to construct malicious pickle data which will execute arbitrary code during unpickling (See https://github.com/pytorch/pytorch/blob/main/SECURITY.md#untrusted-models for more details). In a future release, the default value for `weights_only` will be flipped to `True`. This limits the functions that could be executed during unpickling. Arbitrary objects will no longer be allowed to be loaded via this mode unless they are explicitly allowlisted by the user via `torch.serialization.add_safe_globals`. We recommend you start setting `weights_only=True` for any use case where you don't have full control of the loaded file. Please open an issue on GitHub for any issues related to this experimental feature.\n",
      "  model.load_state_dict(torch.load(model_path))\n"
     ]
    },
    {
     "data": {
      "text/plain": [
       "CSDI_spectra(\n",
       "  (embed_layer): Embedding(1, 1)\n",
       "  (diffmodel): diff_CSDI(\n",
       "    (diffusion_embedding): DiffusionEmbedding(\n",
       "      (projection1): Linear(in_features=128, out_features=128, bias=True)\n",
       "      (projection2): Linear(in_features=128, out_features=128, bias=True)\n",
       "      (dropout): Dropout(p=0.3, inplace=False)\n",
       "    )\n",
       "    (dropout): Dropout(p=0.2, inplace=False)\n",
       "    (input_projection): Conv1d(2, 128, kernel_size=(1,), stride=(1,))\n",
       "    (output_projection1): Conv1d(128, 128, kernel_size=(1,), stride=(1,))\n",
       "    (output_projection2): Conv1d(128, 1, kernel_size=(1,), stride=(1,))\n",
       "    (linear_layer1): Linear(in_features=128, out_features=128, bias=True)\n",
       "    (linear_layer2): Linear(in_features=128, out_features=128, bias=True)\n",
       "    (linear_layer3): Linear(in_features=128, out_features=128, bias=True)\n",
       "    (residual_layers): ModuleList(\n",
       "      (0-5): 6 x ResidualBlock(\n",
       "        (diffusion_projection): Linear(in_features=128, out_features=128, bias=True)\n",
       "        (cond_projection): Conv1d(66, 256, kernel_size=(1,), stride=(1,))\n",
       "        (mid_projection): Conv1d(128, 256, kernel_size=(1,), stride=(1,))\n",
       "        (output_projection): Conv1d(128, 256, kernel_size=(1,), stride=(1,))\n",
       "        (time_layer): LinearAttentionTransformer(\n",
       "          (layers): SequentialSequence(\n",
       "            (layers): ModuleList(\n",
       "              (0): ModuleList(\n",
       "                (0): PreNorm(\n",
       "                  (fn): SelfAttention(\n",
       "                    (local_attn): LocalAttention(\n",
       "                      (dropout): Dropout(p=0.0, inplace=False)\n",
       "                    )\n",
       "                    (to_q): Linear(in_features=128, out_features=128, bias=False)\n",
       "                    (to_k): Linear(in_features=128, out_features=128, bias=False)\n",
       "                    (to_v): Linear(in_features=128, out_features=128, bias=False)\n",
       "                    (to_out): Linear(in_features=128, out_features=128, bias=True)\n",
       "                    (dropout): Dropout(p=0.0, inplace=False)\n",
       "                  )\n",
       "                  (norm): LayerNorm((128,), eps=1e-05, elementwise_affine=True)\n",
       "                )\n",
       "                (1): PreNorm(\n",
       "                  (fn): Chunk(\n",
       "                    (fn): FeedForward(\n",
       "                      (w1): Linear(in_features=128, out_features=512, bias=True)\n",
       "                      (act): GELU(approximate='none')\n",
       "                      (dropout): Dropout(p=0.0, inplace=False)\n",
       "                      (w2): Linear(in_features=512, out_features=128, bias=True)\n",
       "                    )\n",
       "                  )\n",
       "                  (norm): LayerNorm((128,), eps=1e-05, elementwise_affine=True)\n",
       "                )\n",
       "              )\n",
       "            )\n",
       "          )\n",
       "        )\n",
       "        (feature_layer): LinearAttentionTransformer(\n",
       "          (layers): SequentialSequence(\n",
       "            (layers): ModuleList(\n",
       "              (0): ModuleList(\n",
       "                (0): PreNorm(\n",
       "                  (fn): SelfAttention(\n",
       "                    (local_attn): LocalAttention(\n",
       "                      (dropout): Dropout(p=0.0, inplace=False)\n",
       "                    )\n",
       "                    (to_q): Linear(in_features=128, out_features=128, bias=False)\n",
       "                    (to_k): Linear(in_features=128, out_features=128, bias=False)\n",
       "                    (to_v): Linear(in_features=128, out_features=128, bias=False)\n",
       "                    (to_out): Linear(in_features=128, out_features=128, bias=True)\n",
       "                    (dropout): Dropout(p=0.0, inplace=False)\n",
       "                  )\n",
       "                  (norm): LayerNorm((128,), eps=1e-05, elementwise_affine=True)\n",
       "                )\n",
       "                (1): PreNorm(\n",
       "                  (fn): Chunk(\n",
       "                    (fn): FeedForward(\n",
       "                      (w1): Linear(in_features=128, out_features=512, bias=True)\n",
       "                      (act): GELU(approximate='none')\n",
       "                      (dropout): Dropout(p=0.0, inplace=False)\n",
       "                      (w2): Linear(in_features=512, out_features=128, bias=True)\n",
       "                    )\n",
       "                  )\n",
       "                  (norm): LayerNorm((128,), eps=1e-05, elementwise_affine=True)\n",
       "                )\n",
       "              )\n",
       "            )\n",
       "          )\n",
       "        )\n",
       "      )\n",
       "    )\n",
       "  )\n",
       ")"
      ]
     },
     "execution_count": 109,
     "metadata": {},
     "output_type": "execute_result"
    }
   ],
   "source": [
    "import pandas as pd\n",
    "import numpy as np\n",
    "import torch\n",
    "import matplotlib.pyplot as plt\n",
    "import sys\n",
    "sys.path.append(r\"C:\\Users\\vasil\\Desktop\\AstroInformatics\\Compare_Models\\CSDI_spectra_imputation_files\")\n",
    "\n",
    "import torch\n",
    "from CSDI_spectra_imputation_files.main_model_spectra import CSDI_spectra\n",
    "import yaml\n",
    "\n",
    "def load_config(file_path):\n",
    "    with open(file_path, 'r') as file:\n",
    "        config = yaml.safe_load(file)\n",
    "    return config\n",
    "\n",
    "config = load_config(\"CSDI_spectra_imputation_files/base_spectra.yaml\")\n",
    "# Path to saved model\n",
    "model_path = \"CSDI_spectra_imputation_files/output_samples/model.pth\"\n",
    "\n",
    "# Load configuration and device\n",
    "# config = torch.load(\"CSDI_spectra_imputation_files/base_spectra.yaml\")  # If you saved the config\n",
    "device = torch.device(\"cuda\" if torch.cuda.is_available() else \"cpu\")\n",
    "\n",
    "# Load model\n",
    "model = CSDI_spectra(config, device)\n",
    "model.load_state_dict(torch.load(model_path))\n",
    "model.to(device)\n",
    "model.eval()\n"
   ]
  },
  {
   "cell_type": "code",
   "execution_count": 133,
   "metadata": {},
   "outputs": [
    {
     "data": {
      "text/plain": [
       "((10000, 223), (223,), (10000, 223))"
      ]
     },
     "execution_count": 133,
     "metadata": {},
     "output_type": "execute_result"
    }
   ],
   "source": [
    "import pandas as pd\n",
    "import numpy as np\n",
    "import torch\n",
    "import matplotlib.pyplot as plt\n",
    "from spectra_dataset import get_dataloader, df_concat, spectra_Dataset\n",
    "# loading data\n",
    "wavelength_range = \"all\"\n",
    "\n",
    "df_cond = pd.read_csv(\"../data/interpolated_spectra.csv\") # 10000 x 20\n",
    "df_interpol = pd.read_csv(\"../data/spectra.csv\") # 10000 x 223 \n",
    "\n",
    "# focus only on the ir range (128 points) or the entire spectrum (243 points)\n",
    "if wavelength_range == \"ir\":\n",
    "    df_interpol_ir = df_interpol.iloc[:,66:66+108] # 10000 x 108 (66:66+108 yields points in 5-35 mu meter range)\n",
    "    df_tot, cond_mask = df_concat(df_cond = df_cond, df_imp = df_interpol_ir) # 10000 x 128, 10000 x 128\n",
    "    fluxes_np = np.log10(df_tot.values)\n",
    "elif wavelength_range == \"all\":\n",
    "    df_tot, cond_mask = df_concat(df_cond = df_cond, df_imp = df_interpol) # 10000 x 243, 10000 x 243\n",
    "    fluxes_np = df_tot.values\n",
    "\n",
    "sorted_wavelengths = df_tot.columns.values.astype(float)\n",
    "\n",
    "fluxes_np.shape, sorted_wavelengths.shape, cond_mask.shape"
   ]
  },
  {
   "cell_type": "code",
   "execution_count": 134,
   "metadata": {},
   "outputs": [
    {
     "data": {
      "text/plain": [
       "array([-0.43683216, -0.3418358 , -0.24474281, -0.15077485, -0.04993011,\n",
       "        0.04841963,  0.14519776,  0.24106838,  0.3367037 ,  0.43355486,\n",
       "        0.529716  ,  0.62694937,  0.6806327 ,  0.72315574,  0.78469825,\n",
       "        0.8043442 ,  0.8257316 ,  0.8447617 ,  0.85135948,  0.8649841 ,\n",
       "        0.8864085 ,  0.9061158 ,  0.91960256,  0.9275599 ,  0.9419433 ,\n",
       "        0.9485563 ,  0.9705048 ,  0.97773916,  0.9906081 ,  1.00780315,\n",
       "        1.0117558 ,  1.0319792 ,  1.0558859 ,  1.0746938 ,  1.08484039,\n",
       "        1.0975201 ,  1.1172616 ,  1.1381435 ,  1.14625321,  1.1466285 ,\n",
       "        1.1589638 ,  1.1802406 ,  1.2033248 ,  1.20933203,  1.2292074 ,\n",
       "        1.2563367 ,  1.2723296 ,  1.2840976 ,  1.316084  ,  1.3566229 ,\n",
       "        1.3734521 ,  1.3981283 ,  1.4442202 ,  1.48752384,  1.4920555 ,\n",
       "        1.5519879 ,  1.6406734 ,  1.66821414,  1.725695  ,  1.8233523 ,\n",
       "        1.9302696 ,  2.002529  ,  2.0147087 ,  2.119269  ,  2.1912596 ,\n",
       "        2.2250183 ,  2.2416708 ,  2.2629764 ,  2.2718213 ,  2.2848215 ,\n",
       "        2.2980914 ,  2.325568  ,  2.3695056 ,  2.4634402 ,  2.5471961 ,\n",
       "        2.5977747 ,  2.6291358 ,  2.648903  ,  2.6650567 ,  2.675675  ,\n",
       "        2.7040036 ,  2.7249625 ,  2.7516556 ,  2.791874  ,  2.8175945 ,\n",
       "        2.8162425 ,  2.8112073 ,  2.8216357 ,  2.840743  ,  2.8542426 ,\n",
       "        2.8747618 ,  2.8745675 ,  2.881932  ,  2.8930666 ,  2.9190454 ,\n",
       "        2.9273958 ,  2.9298618 ,  2.920975  ,  2.9052405 ,  2.90281915,\n",
       "        2.8926067 ,  2.9021883 ,  2.9112766 ,  2.9194155 ,  2.9261506 ,\n",
       "        2.9419687 ,  2.949354  ,  2.9577405 ,  2.966792  ,  2.9793684 ,\n",
       "        2.9988978 ,  3.0124948 ,  3.0265243 ,  3.0487516 ,  3.056811  ,\n",
       "        3.0633347 ,  3.0666301 ,  3.0698798 ,  3.0734024 ,  3.0778246 ,\n",
       "        3.082688  ,  3.0879498 ,  3.0942914 ,  3.0983863 ,  3.103201  ,\n",
       "        3.1133332 ,  3.120122  ,  3.1259503 ,  3.1358018 ,  3.1442378 ,\n",
       "        3.1472967 ,  3.1535177 ,  3.1583319 ,  3.1635675 ,  3.1692085 ,\n",
       "        3.175149  ,  3.1808808 ,  3.185495  ,  3.1896176 ,  3.1935475 ,\n",
       "        3.2013574 ,  3.2057881 ,  3.210123  ,  3.2136323 ,  3.2198827 ,\n",
       "        3.226695  ,  3.2329822 ,  3.2357078 ,  3.2395988 ,  3.2435708 ,\n",
       "        3.2493978 ,  3.2523944 ,  3.2546492 ,  3.2566712 ,  3.2607114 ,\n",
       "        3.2648826 ,  3.267025  ,  3.269021  ,  3.2733138 ,  3.2807815 ,\n",
       "        3.2949994 ,  3.3025045 ,  3.3069007 ,  3.3091962 ,  3.3114364 ,\n",
       "        3.31623   ,  3.3243604 ,  3.353886  ,  3.3786874 ,  3.3865998 ,\n",
       "        3.3924258 ,  3.3953578 ,  3.398227  ,  3.4039938 ,  3.4126074 ,\n",
       "        3.4373813 ,  3.444757  ,  3.4498029 ,  3.4523785 ,  3.4550352 ,\n",
       "        3.45528229,  3.4602106 ,  3.468207  ,  3.4738014 ,  3.5443037 ,\n",
       "        3.6270523 ,  3.65271609,  3.715564  ,  3.814422  ,  3.8993192 ,\n",
       "        3.9755578 ,  4.0397687 ,  4.0878587 ,  4.09931624,  4.1218963 ,\n",
       "        4.140768  ,  4.1439457 ,  4.1349545 ,  4.1124315 ,  4.11161478,\n",
       "        4.0772376 ,  4.0332503 ,  3.9782639 ,  3.94313602,  3.9143713 ,\n",
       "        3.8415928 ,  3.7618468 ,  3.673007  ,  3.5769541 ,  3.4755328 ,\n",
       "        3.367638  ,  3.202927  ,  3.0278687 ,  2.84626   ,  2.6525142 ,\n",
       "        2.4627986 ,  2.2616994 ,  2.0564535 ,  1.851103  ,  1.6422584 ,\n",
       "        1.4279507 ,  1.211348  ,  0.99606544])"
      ]
     },
     "execution_count": 134,
     "metadata": {},
     "output_type": "execute_result"
    }
   ],
   "source": [
    "fluxes_np[0,:]"
   ]
  },
  {
   "cell_type": "code",
   "execution_count": 135,
   "metadata": {},
   "outputs": [],
   "source": [
    "import numpy as np\n",
    "import torch\n",
    "from CSDI_spectra_imputation_files.spectra_dataset import spectra_Dataset\n",
    "\n",
    "\n",
    "# Reshape to [N, K, L]\n",
    "# observed_data = fluxes_np[:, np.newaxis, :]  # Add feature dimension K=1\n",
    "# cond_mask = cond_mask[:, np.newaxis, :]\n",
    "\n",
    "# Create a Dataset object\n",
    "test_dataset = spectra_Dataset(fluxes_np, cond_mask, eval_length=cond_mask.shape[-1], target_dim=1, mode=\"test\")\n",
    "test_loader = torch.utils.data.DataLoader(test_dataset, batch_size=32, shuffle=False)\n"
   ]
  },
  {
   "cell_type": "code",
   "execution_count": null,
   "metadata": {},
   "outputs": [],
   "source": []
  },
  {
   "cell_type": "code",
   "execution_count": 136,
   "metadata": {},
   "outputs": [
    {
     "data": {
      "text/plain": [
       "[<matplotlib.lines.Line2D at 0x1a4938b4830>]"
      ]
     },
     "execution_count": 136,
     "metadata": {},
     "output_type": "execute_result"
    },
    {
     "data": {
      "image/png": "[encoded data removed]",
      "text/plain": [
       "<Figure size 640x480 with 1 Axes>"
      ]
     },
     "metadata": {},
     "output_type": "display_data"
    }
   ],
   "source": [
    "test = next(iter(test_loader))\n",
    "plt.plot(sorted_wavelengths, test['observed_data'][1,0,:])"
   ]
  },
  {
   "cell_type": "code",
   "execution_count": 137,
   "metadata": {},
   "outputs": [
    {
     "data": {
      "text/plain": [
       "array([[[-2.3696606 , -2.3391423 , -2.3086793 , ..., -1.1617827 ,\n",
       "         -1.2480805 , -1.3108007 ]],\n",
       "\n",
       "       [[-3.2932618 , -3.2619228 , -3.2496607 , ...,  0.11636414,\n",
       "         -0.06553646, -0.24698964]],\n",
       "\n",
       "       [[-3.8363166 , -3.714086  , -3.6618752 , ...,  0.05310265,\n",
       "         -0.12359325, -0.29999766]],\n",
       "\n",
       "       ...,\n",
       "\n",
       "       [[-2.790033  , -2.7453156 , -2.7052157 , ..., -0.3822069 ,\n",
       "         -0.47269976, -0.56246275]],\n",
       "\n",
       "       [[-2.4498165 , -2.3612418 , -2.2707152 , ..., -2.5140684 ,\n",
       "         -2.6953132 , -2.8757658 ]],\n",
       "\n",
       "       [[-2.4283848 , -2.3435516 , -2.2568476 , ..., -2.5053673 ,\n",
       "         -2.6790543 , -2.8518746 ]]], dtype=float32)"
      ]
     },
     "execution_count": 137,
     "metadata": {},
     "output_type": "execute_result"
    }
   ],
   "source": [
    "from CSDI_spectra_imputation_files.tools import eval_model\n",
    "\n",
    "# Perform evaluation\n",
    "num_samples = 10  # Number of imputations per sample to average\n",
    "all_samples = eval_model(model, test_loader, num_samp=num_samples)\n",
    "\n",
    "# Print or save outputs\n",
    "# print(\"Imputed Samples Shape:\", all_samples.shape)  # [N, L]\n",
    "# print(\"Observed Data Shape:\", all_observed_data.shape)  # [N, L]\n",
    "all_samples[1]"
   ]
  },
  {
   "cell_type": "code",
   "execution_count": null,
   "metadata": {},
   "outputs": [],
   "source": []
  },
  {
   "cell_type": "code",
   "execution_count": 141,
   "metadata": {},
   "outputs": [
    {
     "data": {
      "image/png": "[encoded data removed]",
      "text/plain": [
       "<Figure size 1000x600 with 1 Axes>"
      ]
     },
     "metadata": {},
     "output_type": "display_data"
    }
   ],
   "source": [
    "\n",
    "def eval_test_plotter(eval_output, cond_mask, sorted_wavelengths, valid_dataset, index=0, i=35, j=4):\n",
    "    samples, observed_data, target_mask, observed_mask = eval_output\n",
    "    observed_data_x = observed_data[index,0,:]\n",
    "    samples_x = samples[index,0,:]\n",
    "    \n",
    "    size = valid_dataset.observed_data.shape[0]\n",
    "    mean_valid = valid_dataset.mean.reshape(size)\n",
    "    std_valid = valid_dataset.std.reshape(size)\n",
    "    \n",
    "    samples_x[cond_mask[0] == 1] = observed_data_x[cond_mask[0] == 1]\n",
    "    \n",
    "    samples_x = samples_x * std_valid[index] + mean_valid[index]\n",
    "    observed_data_x = observed_data_x * std_valid[index] + mean_valid[index]\n",
    "    samples_region = samples_x[i:-j]\n",
    "    observed_data_region = observed_data_x[i:-j]\n",
    "    \n",
    "    sorted_wavelengths_region = sorted_wavelengths[i:-j]\n",
    "\n",
    "    plt.figure(figsize=(10, 6))\n",
    "    plt.plot(sorted_wavelengths_region, samples_region, c = \"blue\", linewidth = 1)\n",
    "    plt.plot(sorted_wavelengths_region, observed_data_region, c = \"red\", linewidth = 1)\n",
    "\n",
    "eval_test_plotter(all_samples,cond_mask, sorted_wavelengths, test_dataset)"
   ]
  },
  {
   "cell_type": "markdown",
   "metadata": {},
   "source": [
    "# TimeDiff"
   ]
  },
  {
   "cell_type": "code",
   "execution_count": 154,
   "metadata": {},
   "outputs": [
    {
     "name": "stderr",
     "output_type": "stream",
     "text": [
      "C:\\Users\\vasil\\AppData\\Local\\Temp\\ipykernel_19672\\2805920969.py:17: FutureWarning: You are using `torch.load` with `weights_only=False` (the current default value), which uses the default pickle module implicitly. It is possible to construct malicious pickle data which will execute arbitrary code during unpickling (See https://github.com/pytorch/pytorch/blob/main/SECURITY.md#untrusted-models for more details). In a future release, the default value for `weights_only` will be flipped to `True`. This limits the functions that could be executed during unpickling. Arbitrary objects will no longer be allowed to be loaded via this mode unless they are explicitly allowlisted by the user via `torch.serialization.add_safe_globals`. We recommend you start setting `weights_only=True` for any use case where you don't have full control of the loaded file. Please open an issue on GitHub for any issues related to this experimental feature.\n",
      "  model.load_state_dict(torch.load(model_path))\n"
     ]
    },
    {
     "data": {
      "text/plain": [
       "SelfGuidedTSDiff(\n",
       "  (ts_diff): TSDiff(\n",
       "    (initial_conv): Conv1d(17, 32, kernel_size=(3,), stride=(1,), padding=(1,))\n",
       "    (to_d_model): Conv1d(32, 64, kernel_size=(1,), stride=(1,))\n",
       "    (residual_blocks): ModuleList(\n",
       "      (0-4): 5 x ResidualBlock(\n",
       "        (conv1): Conv1d(64, 64, kernel_size=(3,), stride=(1,), padding=(1,))\n",
       "        (conv2): Conv1d(64, 64, kernel_size=(3,), stride=(1,), padding=(1,))\n",
       "        (swish): Swish()\n",
       "        (relu): ReLU()\n",
       "      )\n",
       "    )\n",
       "    (transformer_layer): TransformerEncoder(\n",
       "      (layers): ModuleList(\n",
       "        (0-1): 2 x TransformerEncoderLayer(\n",
       "          (self_attn): MultiheadAttention(\n",
       "            (out_proj): NonDynamicallyQuantizableLinear(in_features=64, out_features=64, bias=True)\n",
       "          )\n",
       "          (linear1): Linear(in_features=64, out_features=2048, bias=True)\n",
       "          (dropout): Dropout(p=0.1, inplace=False)\n",
       "          (linear2): Linear(in_features=2048, out_features=64, bias=True)\n",
       "          (norm1): LayerNorm((64,), eps=1e-05, elementwise_affine=True)\n",
       "          (norm2): LayerNorm((64,), eps=1e-05, elementwise_affine=True)\n",
       "          (dropout1): Dropout(p=0.1, inplace=False)\n",
       "          (dropout2): Dropout(p=0.1, inplace=False)\n",
       "        )\n",
       "      )\n",
       "    )\n",
       "    (output_conv): Conv1d(64, 206, kernel_size=(1,), stride=(1,))\n",
       "  )\n",
       ")"
      ]
     },
     "execution_count": 154,
     "metadata": {},
     "output_type": "execute_result"
    }
   ],
   "source": [
    "import sys\n",
    "sys.path.append(r\"C:\\Users\\vasil\\Desktop\\AstroInformatics\\DIFFUSION_MODELS\")\n",
    "\n",
    "import torch\n",
    "from DIFFUSION_MODELS.tsdiff import SelfGuidedTSDiff\n",
    "from DIFFUSION_MODELS.hyperparameters import input_dim, time_steps\n",
    "# config = load_config(\"/base_spectra.yaml\")\n",
    "# Path to saved model\n",
    "model_path = r\"C:\\Users\\vasil\\Desktop\\AstroInformatics\\DIFFUSION_MODELS\\trained_model.pth\"\n",
    "\n",
    "# Load configuration and device\n",
    "# config = torch.load(\"CSDI_spectra_imputation_files/base_spectra.yaml\")  # If you saved the config\n",
    "device = torch.device(\"cuda\" if torch.cuda.is_available() else \"cpu\")\n",
    "\n",
    "# Load model\n",
    "model = SelfGuidedTSDiff(input_dim=input_dim, time_steps=time_steps).to(device)\n",
    "model.load_state_dict(torch.load(model_path))\n",
    "model.to(device)\n",
    "model.eval()"
   ]
  },
  {
   "cell_type": "code",
   "execution_count": 161,
   "metadata": {},
   "outputs": [],
   "source": [
    "from data_loader import SpectraDataset\n",
    "from hyperparameters import batch_size\n",
    "from torch.utils.data import DataLoader, random_split\n",
    "\n",
    "df_spectra = pd.read_csv('../data/spectra.csv', header=None)\n",
    "df_photometry = pd.read_csv('../data/interpolated_spectra.csv', header=None)\n",
    "\n",
    "# Extract wavelengths\n",
    "spectra_wavelengths = df_spectra.iloc[0].values.astype(np.float64)\n",
    "photometry_wavelengths = df_photometry.iloc[0].values.astype(np.float64)\n",
    "\n",
    "# Flux values only\n",
    "data_spectra = df_spectra.iloc[1:].values.astype(np.float64)\n",
    "data_photometry = df_photometry.iloc[1:].values.astype(np.float64)\n",
    "\n",
    "dataset = SpectraDataset(data_photometry, data_spectra, normalise=True)\n",
    "\n",
    "test_dataloader = DataLoader(dataset, batch_size=batch_size, shuffle=False, drop_last=False)\n",
    "\n"
   ]
  },
  {
   "cell_type": "code",
   "execution_count": 164,
   "metadata": {},
   "outputs": [
    {
     "name": "stdout",
     "output_type": "stream",
     "text": [
      "Evaluation Metrics:\n",
      "MSE: 0.000431\n",
      "Chi^2 Mean: 2.699159\n"
     ]
    },
    {
     "data": {
      "image/png": "[encoded data removed]",
      "text/plain": [
       "<Figure size 800x500 with 1 Axes>"
      ]
     },
     "metadata": {},
     "output_type": "display_data"
    },
    {
     "name": "stdout",
     "output_type": "stream",
     "text": [
      "Plotting results...\n"
     ]
    }
   ],
   "source": [
    "from evaluate_diffusion import evaluate_model\n",
    "from chi_squared import calculate_chi2\n",
    "from plotting import plot_spectra\n",
    "\n",
    "\n",
    "all_real_spectra, all_generated_spectra, all_photometry_data = [], [], []\n",
    "with torch.no_grad():\n",
    "    for photometry_data, real_spectra in test_dataloader:\n",
    "        photometry_data, real_spectra = photometry_data.to(device), real_spectra.to(device)\n",
    "        generated_spectra = model(photometry_data, t=None)\n",
    "        all_real_spectra.append(real_spectra)\n",
    "        all_generated_spectra.append(generated_spectra.squeeze(-1))\n",
    "        all_photometry_data.append(photometry_data)\n",
    "\n",
    "all_real_spectra = torch.cat(all_real_spectra)\n",
    "all_generated_spectra = torch.cat(all_generated_spectra)\n",
    "all_photometry_data = torch.cat(all_photometry_data)\n",
    "\n",
    "# Calculate metrics\n",
    "mse = torch.mean((all_real_spectra - all_generated_spectra) ** 2).item()\n",
    "chi2_values = calculate_chi2(all_real_spectra, all_generated_spectra)\n",
    "chi2_mean = torch.mean(chi2_values).item()\n",
    "\n",
    "print(f\"Evaluation Metrics:\\nMSE: {mse:.6f}\\nChi^2 Mean: {chi2_mean:.6f}\")\n",
    "\n",
    "# Plot Chi-Squared distribution\n",
    "plt.figure(figsize=(8, 5))\n",
    "plt.hist(chi2_values.cpu().numpy(), bins=30, color='orange', alpha=0.7)\n",
    "plt.xlabel('Chi-Squared Value')\n",
    "plt.ylabel('Frequency')\n",
    "plt.title('Chi-Squared Value Distribution')\n",
    "plt.grid(True)\n",
    "plt.savefig(\"chi2_distribution.png\")\n",
    "plt.show()\n",
    "\n",
    "print(\"Plotting results...\")\n",
    "# Filter wavelengths and corresponding fluxes (wavelengths < 35)\n",
    "valid_spectra_indices = spectra_wavelengths < 2000\n",
    "valid_photometry_indices = photometry_wavelengths < 2000\n",
    "\n",
    "filtered_spectra_wavelengths = spectra_wavelengths[valid_spectra_indices]\n",
    "filtered_photometry_wavelengths = photometry_wavelengths[valid_photometry_indices]\n",
    "\n",
    "for i in range(5):  # Plot first 5 samples\n",
    "    plot_spectra(\n",
    "        real_spectra=all_real_spectra[:, valid_spectra_indices],\n",
    "        photometry=all_photometry_data[:, valid_photometry_indices],\n",
    "        generated_spectra=all_generated_spectra[:, valid_spectra_indices],\n",
    "        photometry_wavelengths=filtered_photometry_wavelengths,\n",
    "        spectra_wavelengths=filtered_spectra_wavelengths,\n",
    "        index=i\n",
    "    )\n"
   ]
  },
  {
   "cell_type": "code",
   "execution_count": null,
   "metadata": {},
   "outputs": [],
   "source": []
  }
 ],
 "metadata": {
  "kernelspec": {
   "display_name": "pytorch_env",
   "language": "python",
   "name": "python3"
  },
  "language_info": {
   "codemirror_mode": {
    "name": "ipython",
    "version": 3
   },
   "file_extension": ".py",
   "mimetype": "text/x-python",
   "name": "python",
   "nbconvert_exporter": "python",
   "pygments_lexer": "ipython3",
   "version": "3.12.5"
  }
 },
 "nbformat": 4,
 "nbformat_minor": 2
}
